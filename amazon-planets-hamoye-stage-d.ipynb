{
 "cells": [
  {
   "cell_type": "code",
   "execution_count": 1,
   "id": "904765be",
   "metadata": {
    "execution": {
     "iopub.execute_input": "2023-01-15T14:23:50.410293Z",
     "iopub.status.busy": "2023-01-15T14:23:50.409591Z",
     "iopub.status.idle": "2023-01-15T14:23:58.836303Z",
     "shell.execute_reply": "2023-01-15T14:23:58.834172Z"
    },
    "papermill": {
     "duration": 8.441808,
     "end_time": "2023-01-15T14:23:58.839788",
     "exception": false,
     "start_time": "2023-01-15T14:23:50.397980",
     "status": "completed"
    },
    "tags": []
   },
   "outputs": [],
   "source": [
    "import os\n",
    "import cv2\n",
    "import pandas as pd\n",
    "import numpy as np\n",
    "import gc\n",
    "import matplotlib.pyplot as plt\n",
    "from matplotlib.image import imread\n",
    "from sklearn.metrics import fbeta_score\n",
    "from tqdm import tqdm\n",
    "import tensorflow as tf\n",
    "from keras import optimizers\n",
    "from tensorflow.keras.models import Sequential \n",
    "from tensorflow.keras.preprocessing.image import ImageDataGenerator\n",
    "from tensorflow.keras.layers import Input , Dense , Dropout , Flatten,\\\n",
    "Conv2D,MaxPooling2D , BatchNormalization\n",
    "from keras.callbacks import ModelCheckpoint, EarlyStopping, ReduceLROnPlateau, History\n",
    "import tensorflow_addons as tfa"
   ]
  },
  {
   "cell_type": "code",
   "execution_count": 2,
   "id": "072ba2b6",
   "metadata": {
    "execution": {
     "iopub.execute_input": "2023-01-15T14:23:58.858487Z",
     "iopub.status.busy": "2023-01-15T14:23:58.857797Z",
     "iopub.status.idle": "2023-01-15T14:23:58.888498Z",
     "shell.execute_reply": "2023-01-15T14:23:58.887085Z"
    },
    "papermill": {
     "duration": 0.043725,
     "end_time": "2023-01-15T14:23:58.891792",
     "exception": false,
     "start_time": "2023-01-15T14:23:58.848067",
     "status": "completed"
    },
    "tags": []
   },
   "outputs": [
    {
     "data": {
      "text/plain": [
       "['sample_submission.csv', 'test-jpg', 'train_classes.csv', 'train-jpg']"
      ]
     },
     "execution_count": 2,
     "metadata": {},
     "output_type": "execute_result"
    }
   ],
   "source": [
    "path = \"../input/planets-dataset/planet/planet\"\n",
    "os.listdir(path)"
   ]
  },
  {
   "cell_type": "code",
   "execution_count": 3,
   "id": "c5b0b510",
   "metadata": {
    "execution": {
     "iopub.execute_input": "2023-01-15T14:23:58.910234Z",
     "iopub.status.busy": "2023-01-15T14:23:58.909806Z",
     "iopub.status.idle": "2023-01-15T14:23:58.994985Z",
     "shell.execute_reply": "2023-01-15T14:23:58.993600Z"
    },
    "papermill": {
     "duration": 0.097758,
     "end_time": "2023-01-15T14:23:58.997919",
     "exception": false,
     "start_time": "2023-01-15T14:23:58.900161",
     "status": "completed"
    },
    "tags": []
   },
   "outputs": [
    {
     "data": {
      "text/html": [
       "<div>\n",
       "<style scoped>\n",
       "    .dataframe tbody tr th:only-of-type {\n",
       "        vertical-align: middle;\n",
       "    }\n",
       "\n",
       "    .dataframe tbody tr th {\n",
       "        vertical-align: top;\n",
       "    }\n",
       "\n",
       "    .dataframe thead th {\n",
       "        text-align: right;\n",
       "    }\n",
       "</style>\n",
       "<table border=\"1\" class=\"dataframe\">\n",
       "  <thead>\n",
       "    <tr style=\"text-align: right;\">\n",
       "      <th></th>\n",
       "      <th>image_name</th>\n",
       "      <th>tags</th>\n",
       "    </tr>\n",
       "  </thead>\n",
       "  <tbody>\n",
       "    <tr>\n",
       "      <th>0</th>\n",
       "      <td>train_0</td>\n",
       "      <td>haze primary</td>\n",
       "    </tr>\n",
       "    <tr>\n",
       "      <th>1</th>\n",
       "      <td>train_1</td>\n",
       "      <td>agriculture clear primary water</td>\n",
       "    </tr>\n",
       "    <tr>\n",
       "      <th>2</th>\n",
       "      <td>train_2</td>\n",
       "      <td>clear primary</td>\n",
       "    </tr>\n",
       "    <tr>\n",
       "      <th>3</th>\n",
       "      <td>train_3</td>\n",
       "      <td>clear primary</td>\n",
       "    </tr>\n",
       "    <tr>\n",
       "      <th>4</th>\n",
       "      <td>train_4</td>\n",
       "      <td>agriculture clear habitation primary road</td>\n",
       "    </tr>\n",
       "  </tbody>\n",
       "</table>\n",
       "</div>"
      ],
      "text/plain": [
       "  image_name                                       tags\n",
       "0    train_0                               haze primary\n",
       "1    train_1            agriculture clear primary water\n",
       "2    train_2                              clear primary\n",
       "3    train_3                              clear primary\n",
       "4    train_4  agriculture clear habitation primary road"
      ]
     },
     "execution_count": 3,
     "metadata": {},
     "output_type": "execute_result"
    }
   ],
   "source": [
    "train_data = pd.read_csv(os.path.join(path,\"train_classes.csv\"))\n",
    "train_data.head()"
   ]
  },
  {
   "cell_type": "code",
   "execution_count": 4,
   "id": "4dddc08d",
   "metadata": {
    "execution": {
     "iopub.execute_input": "2023-01-15T14:23:59.018443Z",
     "iopub.status.busy": "2023-01-15T14:23:59.017176Z",
     "iopub.status.idle": "2023-01-15T14:23:59.079299Z",
     "shell.execute_reply": "2023-01-15T14:23:59.077491Z"
    },
    "papermill": {
     "duration": 0.080777,
     "end_time": "2023-01-15T14:23:59.087964",
     "exception": false,
     "start_time": "2023-01-15T14:23:59.007187",
     "status": "completed"
    },
    "tags": []
   },
   "outputs": [
    {
     "name": "stdout",
     "output_type": "stream",
     "text": [
      "['haze', 'primary', 'agriculture', 'clear', 'water', 'habitation', 'road', 'cultivation', 'slash_burn', 'cloudy', 'partly_cloudy', 'conventional_mine', 'bare_ground', 'artisinal_mine', 'blooming', 'selective_logging', 'blow_down']\n",
      "\n",
      "There are 17 unique tags in the train data\n"
     ]
    }
   ],
   "source": [
    "np_tags = train_data['tags'].to_numpy()\n",
    "unique_tags = list()\n",
    "for tags in np_tags:\n",
    "    labels = tags.split()\n",
    "    for label in labels:\n",
    "        if label not in unique_tags:\n",
    "            unique_tags.append(label)\n",
    "print(unique_tags)\n",
    "print(f\"\\nThere are {len(unique_tags)} unique tags in the train data\")"
   ]
  },
  {
   "cell_type": "markdown",
   "id": "2cd24d10",
   "metadata": {
    "papermill": {
     "duration": 0.022883,
     "end_time": "2023-01-15T14:23:59.125232",
     "exception": false,
     "start_time": "2023-01-15T14:23:59.102349",
     "status": "completed"
    },
    "tags": []
   },
   "source": [
    "I will now `one-hot` encode the tags column<br>\n",
    "This will create a new column for each of the 17 unique tags, with 1 for each occurence of each tag in a particular image and 0 otherwise"
   ]
  },
  {
   "cell_type": "code",
   "execution_count": 5,
   "id": "790bbb8d",
   "metadata": {
    "execution": {
     "iopub.execute_input": "2023-01-15T14:23:59.166761Z",
     "iopub.status.busy": "2023-01-15T14:23:59.166167Z",
     "iopub.status.idle": "2023-01-15T14:23:59.968252Z",
     "shell.execute_reply": "2023-01-15T14:23:59.966737Z"
    },
    "papermill": {
     "duration": 0.823292,
     "end_time": "2023-01-15T14:23:59.971777",
     "exception": false,
     "start_time": "2023-01-15T14:23:59.148485",
     "status": "completed"
    },
    "tags": []
   },
   "outputs": [
    {
     "data": {
      "text/html": [
       "<div>\n",
       "<style scoped>\n",
       "    .dataframe tbody tr th:only-of-type {\n",
       "        vertical-align: middle;\n",
       "    }\n",
       "\n",
       "    .dataframe tbody tr th {\n",
       "        vertical-align: top;\n",
       "    }\n",
       "\n",
       "    .dataframe thead th {\n",
       "        text-align: right;\n",
       "    }\n",
       "</style>\n",
       "<table border=\"1\" class=\"dataframe\">\n",
       "  <thead>\n",
       "    <tr style=\"text-align: right;\">\n",
       "      <th></th>\n",
       "      <th>image_name</th>\n",
       "      <th>tags</th>\n",
       "      <th>haze</th>\n",
       "      <th>primary</th>\n",
       "      <th>agriculture</th>\n",
       "      <th>clear</th>\n",
       "      <th>water</th>\n",
       "      <th>habitation</th>\n",
       "      <th>road</th>\n",
       "      <th>cultivation</th>\n",
       "      <th>slash_burn</th>\n",
       "      <th>cloudy</th>\n",
       "      <th>partly_cloudy</th>\n",
       "      <th>conventional_mine</th>\n",
       "      <th>bare_ground</th>\n",
       "      <th>artisinal_mine</th>\n",
       "      <th>blooming</th>\n",
       "      <th>selective_logging</th>\n",
       "      <th>blow_down</th>\n",
       "    </tr>\n",
       "  </thead>\n",
       "  <tbody>\n",
       "    <tr>\n",
       "      <th>0</th>\n",
       "      <td>train_0</td>\n",
       "      <td>haze primary</td>\n",
       "      <td>1</td>\n",
       "      <td>1</td>\n",
       "      <td>0</td>\n",
       "      <td>0</td>\n",
       "      <td>0</td>\n",
       "      <td>0</td>\n",
       "      <td>0</td>\n",
       "      <td>0</td>\n",
       "      <td>0</td>\n",
       "      <td>0</td>\n",
       "      <td>0</td>\n",
       "      <td>0</td>\n",
       "      <td>0</td>\n",
       "      <td>0</td>\n",
       "      <td>0</td>\n",
       "      <td>0</td>\n",
       "      <td>0</td>\n",
       "    </tr>\n",
       "    <tr>\n",
       "      <th>1</th>\n",
       "      <td>train_1</td>\n",
       "      <td>agriculture clear primary water</td>\n",
       "      <td>0</td>\n",
       "      <td>1</td>\n",
       "      <td>1</td>\n",
       "      <td>1</td>\n",
       "      <td>1</td>\n",
       "      <td>0</td>\n",
       "      <td>0</td>\n",
       "      <td>0</td>\n",
       "      <td>0</td>\n",
       "      <td>0</td>\n",
       "      <td>0</td>\n",
       "      <td>0</td>\n",
       "      <td>0</td>\n",
       "      <td>0</td>\n",
       "      <td>0</td>\n",
       "      <td>0</td>\n",
       "      <td>0</td>\n",
       "    </tr>\n",
       "    <tr>\n",
       "      <th>2</th>\n",
       "      <td>train_2</td>\n",
       "      <td>clear primary</td>\n",
       "      <td>0</td>\n",
       "      <td>1</td>\n",
       "      <td>0</td>\n",
       "      <td>1</td>\n",
       "      <td>0</td>\n",
       "      <td>0</td>\n",
       "      <td>0</td>\n",
       "      <td>0</td>\n",
       "      <td>0</td>\n",
       "      <td>0</td>\n",
       "      <td>0</td>\n",
       "      <td>0</td>\n",
       "      <td>0</td>\n",
       "      <td>0</td>\n",
       "      <td>0</td>\n",
       "      <td>0</td>\n",
       "      <td>0</td>\n",
       "    </tr>\n",
       "    <tr>\n",
       "      <th>3</th>\n",
       "      <td>train_3</td>\n",
       "      <td>clear primary</td>\n",
       "      <td>0</td>\n",
       "      <td>1</td>\n",
       "      <td>0</td>\n",
       "      <td>1</td>\n",
       "      <td>0</td>\n",
       "      <td>0</td>\n",
       "      <td>0</td>\n",
       "      <td>0</td>\n",
       "      <td>0</td>\n",
       "      <td>0</td>\n",
       "      <td>0</td>\n",
       "      <td>0</td>\n",
       "      <td>0</td>\n",
       "      <td>0</td>\n",
       "      <td>0</td>\n",
       "      <td>0</td>\n",
       "      <td>0</td>\n",
       "    </tr>\n",
       "    <tr>\n",
       "      <th>4</th>\n",
       "      <td>train_4</td>\n",
       "      <td>agriculture clear habitation primary road</td>\n",
       "      <td>0</td>\n",
       "      <td>1</td>\n",
       "      <td>1</td>\n",
       "      <td>1</td>\n",
       "      <td>0</td>\n",
       "      <td>1</td>\n",
       "      <td>1</td>\n",
       "      <td>0</td>\n",
       "      <td>0</td>\n",
       "      <td>0</td>\n",
       "      <td>0</td>\n",
       "      <td>0</td>\n",
       "      <td>0</td>\n",
       "      <td>0</td>\n",
       "      <td>0</td>\n",
       "      <td>0</td>\n",
       "      <td>0</td>\n",
       "    </tr>\n",
       "  </tbody>\n",
       "</table>\n",
       "</div>"
      ],
      "text/plain": [
       "  image_name                                       tags  haze  primary  \\\n",
       "0    train_0                               haze primary     1        1   \n",
       "1    train_1            agriculture clear primary water     0        1   \n",
       "2    train_2                              clear primary     0        1   \n",
       "3    train_3                              clear primary     0        1   \n",
       "4    train_4  agriculture clear habitation primary road     0        1   \n",
       "\n",
       "   agriculture  clear  water  habitation  road  cultivation  slash_burn  \\\n",
       "0            0      0      0           0     0            0           0   \n",
       "1            1      1      1           0     0            0           0   \n",
       "2            0      1      0           0     0            0           0   \n",
       "3            0      1      0           0     0            0           0   \n",
       "4            1      1      0           1     1            0           0   \n",
       "\n",
       "   cloudy  partly_cloudy  conventional_mine  bare_ground  artisinal_mine  \\\n",
       "0       0              0                  0            0               0   \n",
       "1       0              0                  0            0               0   \n",
       "2       0              0                  0            0               0   \n",
       "3       0              0                  0            0               0   \n",
       "4       0              0                  0            0               0   \n",
       "\n",
       "   blooming  selective_logging  blow_down  \n",
       "0         0                  0          0  \n",
       "1         0                  0          0  \n",
       "2         0                  0          0  \n",
       "3         0                  0          0  \n",
       "4         0                  0          0  "
      ]
     },
     "execution_count": 5,
     "metadata": {},
     "output_type": "execute_result"
    }
   ],
   "source": [
    "for unique_tag in unique_tags:\n",
    "    train_data[unique_tag]=train_data[\"tags\"].apply(lambda x: 1 if unique_tag in x.split() else 0)\n",
    "train_data.head()"
   ]
  },
  {
   "cell_type": "code",
   "execution_count": 6,
   "id": "63777b05",
   "metadata": {
    "execution": {
     "iopub.execute_input": "2023-01-15T14:23:59.992269Z",
     "iopub.status.busy": "2023-01-15T14:23:59.991828Z",
     "iopub.status.idle": "2023-01-15T14:23:59.998429Z",
     "shell.execute_reply": "2023-01-15T14:23:59.997027Z"
    },
    "papermill": {
     "duration": 0.020337,
     "end_time": "2023-01-15T14:24:00.001482",
     "exception": false,
     "start_time": "2023-01-15T14:23:59.981145",
     "status": "completed"
    },
    "tags": []
   },
   "outputs": [],
   "source": [
    "rel_cols = train_data.columns.to_list()[2:] #means relevant columns to feed into the generator\n",
    "train_dir = os.path.join(path,'train-jpg')"
   ]
  },
  {
   "cell_type": "markdown",
   "id": "ee548f99",
   "metadata": {
    "papermill": {
     "duration": 0.00921,
     "end_time": "2023-01-15T14:24:00.019973",
     "exception": false,
     "start_time": "2023-01-15T14:24:00.010763",
     "status": "completed"
    },
    "tags": []
   },
   "source": [
    "## Renaming the `image_name` column contents to use `ImageDataGenerator`"
   ]
  },
  {
   "cell_type": "code",
   "execution_count": 7,
   "id": "d7f960bc",
   "metadata": {
    "execution": {
     "iopub.execute_input": "2023-01-15T14:24:00.040624Z",
     "iopub.status.busy": "2023-01-15T14:24:00.039769Z",
     "iopub.status.idle": "2023-01-15T14:24:00.075027Z",
     "shell.execute_reply": "2023-01-15T14:24:00.073602Z"
    },
    "papermill": {
     "duration": 0.048844,
     "end_time": "2023-01-15T14:24:00.077959",
     "exception": false,
     "start_time": "2023-01-15T14:24:00.029115",
     "status": "completed"
    },
    "tags": []
   },
   "outputs": [
    {
     "data": {
      "text/html": [
       "<div>\n",
       "<style scoped>\n",
       "    .dataframe tbody tr th:only-of-type {\n",
       "        vertical-align: middle;\n",
       "    }\n",
       "\n",
       "    .dataframe tbody tr th {\n",
       "        vertical-align: top;\n",
       "    }\n",
       "\n",
       "    .dataframe thead th {\n",
       "        text-align: right;\n",
       "    }\n",
       "</style>\n",
       "<table border=\"1\" class=\"dataframe\">\n",
       "  <thead>\n",
       "    <tr style=\"text-align: right;\">\n",
       "      <th></th>\n",
       "      <th>image_name</th>\n",
       "      <th>tags</th>\n",
       "      <th>haze</th>\n",
       "      <th>primary</th>\n",
       "      <th>agriculture</th>\n",
       "      <th>clear</th>\n",
       "      <th>water</th>\n",
       "      <th>habitation</th>\n",
       "      <th>road</th>\n",
       "      <th>cultivation</th>\n",
       "      <th>slash_burn</th>\n",
       "      <th>cloudy</th>\n",
       "      <th>partly_cloudy</th>\n",
       "      <th>conventional_mine</th>\n",
       "      <th>bare_ground</th>\n",
       "      <th>artisinal_mine</th>\n",
       "      <th>blooming</th>\n",
       "      <th>selective_logging</th>\n",
       "      <th>blow_down</th>\n",
       "    </tr>\n",
       "  </thead>\n",
       "  <tbody>\n",
       "    <tr>\n",
       "      <th>0</th>\n",
       "      <td>train_0.jpg</td>\n",
       "      <td>haze primary</td>\n",
       "      <td>1</td>\n",
       "      <td>1</td>\n",
       "      <td>0</td>\n",
       "      <td>0</td>\n",
       "      <td>0</td>\n",
       "      <td>0</td>\n",
       "      <td>0</td>\n",
       "      <td>0</td>\n",
       "      <td>0</td>\n",
       "      <td>0</td>\n",
       "      <td>0</td>\n",
       "      <td>0</td>\n",
       "      <td>0</td>\n",
       "      <td>0</td>\n",
       "      <td>0</td>\n",
       "      <td>0</td>\n",
       "      <td>0</td>\n",
       "    </tr>\n",
       "    <tr>\n",
       "      <th>1</th>\n",
       "      <td>train_1.jpg</td>\n",
       "      <td>agriculture clear primary water</td>\n",
       "      <td>0</td>\n",
       "      <td>1</td>\n",
       "      <td>1</td>\n",
       "      <td>1</td>\n",
       "      <td>1</td>\n",
       "      <td>0</td>\n",
       "      <td>0</td>\n",
       "      <td>0</td>\n",
       "      <td>0</td>\n",
       "      <td>0</td>\n",
       "      <td>0</td>\n",
       "      <td>0</td>\n",
       "      <td>0</td>\n",
       "      <td>0</td>\n",
       "      <td>0</td>\n",
       "      <td>0</td>\n",
       "      <td>0</td>\n",
       "    </tr>\n",
       "    <tr>\n",
       "      <th>2</th>\n",
       "      <td>train_2.jpg</td>\n",
       "      <td>clear primary</td>\n",
       "      <td>0</td>\n",
       "      <td>1</td>\n",
       "      <td>0</td>\n",
       "      <td>1</td>\n",
       "      <td>0</td>\n",
       "      <td>0</td>\n",
       "      <td>0</td>\n",
       "      <td>0</td>\n",
       "      <td>0</td>\n",
       "      <td>0</td>\n",
       "      <td>0</td>\n",
       "      <td>0</td>\n",
       "      <td>0</td>\n",
       "      <td>0</td>\n",
       "      <td>0</td>\n",
       "      <td>0</td>\n",
       "      <td>0</td>\n",
       "    </tr>\n",
       "    <tr>\n",
       "      <th>3</th>\n",
       "      <td>train_3.jpg</td>\n",
       "      <td>clear primary</td>\n",
       "      <td>0</td>\n",
       "      <td>1</td>\n",
       "      <td>0</td>\n",
       "      <td>1</td>\n",
       "      <td>0</td>\n",
       "      <td>0</td>\n",
       "      <td>0</td>\n",
       "      <td>0</td>\n",
       "      <td>0</td>\n",
       "      <td>0</td>\n",
       "      <td>0</td>\n",
       "      <td>0</td>\n",
       "      <td>0</td>\n",
       "      <td>0</td>\n",
       "      <td>0</td>\n",
       "      <td>0</td>\n",
       "      <td>0</td>\n",
       "    </tr>\n",
       "    <tr>\n",
       "      <th>4</th>\n",
       "      <td>train_4.jpg</td>\n",
       "      <td>agriculture clear habitation primary road</td>\n",
       "      <td>0</td>\n",
       "      <td>1</td>\n",
       "      <td>1</td>\n",
       "      <td>1</td>\n",
       "      <td>0</td>\n",
       "      <td>1</td>\n",
       "      <td>1</td>\n",
       "      <td>0</td>\n",
       "      <td>0</td>\n",
       "      <td>0</td>\n",
       "      <td>0</td>\n",
       "      <td>0</td>\n",
       "      <td>0</td>\n",
       "      <td>0</td>\n",
       "      <td>0</td>\n",
       "      <td>0</td>\n",
       "      <td>0</td>\n",
       "    </tr>\n",
       "  </tbody>\n",
       "</table>\n",
       "</div>"
      ],
      "text/plain": [
       "    image_name                                       tags  haze  primary  \\\n",
       "0  train_0.jpg                               haze primary     1        1   \n",
       "1  train_1.jpg            agriculture clear primary water     0        1   \n",
       "2  train_2.jpg                              clear primary     0        1   \n",
       "3  train_3.jpg                              clear primary     0        1   \n",
       "4  train_4.jpg  agriculture clear habitation primary road     0        1   \n",
       "\n",
       "   agriculture  clear  water  habitation  road  cultivation  slash_burn  \\\n",
       "0            0      0      0           0     0            0           0   \n",
       "1            1      1      1           0     0            0           0   \n",
       "2            0      1      0           0     0            0           0   \n",
       "3            0      1      0           0     0            0           0   \n",
       "4            1      1      0           1     1            0           0   \n",
       "\n",
       "   cloudy  partly_cloudy  conventional_mine  bare_ground  artisinal_mine  \\\n",
       "0       0              0                  0            0               0   \n",
       "1       0              0                  0            0               0   \n",
       "2       0              0                  0            0               0   \n",
       "3       0              0                  0            0               0   \n",
       "4       0              0                  0            0               0   \n",
       "\n",
       "   blooming  selective_logging  blow_down  \n",
       "0         0                  0          0  \n",
       "1         0                  0          0  \n",
       "2         0                  0          0  \n",
       "3         0                  0          0  \n",
       "4         0                  0          0  "
      ]
     },
     "execution_count": 7,
     "metadata": {},
     "output_type": "execute_result"
    }
   ],
   "source": [
    "train_data['image_name'] = train_data['image_name'].apply(lambda x: x+\".jpg\")\n",
    "train_data.head()"
   ]
  },
  {
   "cell_type": "code",
   "execution_count": 8,
   "id": "df19ac17",
   "metadata": {
    "execution": {
     "iopub.execute_input": "2023-01-15T14:24:00.099424Z",
     "iopub.status.busy": "2023-01-15T14:24:00.098220Z",
     "iopub.status.idle": "2023-01-15T14:26:27.086260Z",
     "shell.execute_reply": "2023-01-15T14:26:27.084738Z"
    },
    "papermill": {
     "duration": 147.001904,
     "end_time": "2023-01-15T14:26:27.089218",
     "exception": false,
     "start_time": "2023-01-15T14:24:00.087314",
     "status": "completed"
    },
    "tags": []
   },
   "outputs": [
    {
     "name": "stdout",
     "output_type": "stream",
     "text": [
      "Found 32384 validated image filenames.\n",
      "Found 8095 validated image filenames.\n"
     ]
    }
   ],
   "source": [
    "train_generator = ImageDataGenerator(rescale = 1./255, validation_split = 0.2)\n",
    "\n",
    "# train_set contains 80 percent of images\n",
    "train_gen = train_generator.flow_from_dataframe(dataframe=train_data,\n",
    "                                              directory = train_dir,  \n",
    "                                              x_col=\"image_name\", \n",
    "                                              y_col=rel_cols, \n",
    "                                              subset=\"training\", \n",
    "                                              batch_size=128,\n",
    "                                              seed=42, \n",
    "                                              shuffle = True, \n",
    "                                              class_mode=\"raw\", \n",
    "                                              target_size=(128,128))\n",
    "\n",
    "\n",
    "# val_set contains 20 percent of images \n",
    "val_gen = train_generator.flow_from_dataframe(dataframe=train_data,\n",
    "                                            directory = train_dir,  \n",
    "                                            x_col=\"image_name\", \n",
    "                                            y_col=rel_cols, \n",
    "                                            subset=\"validation\", \n",
    "                                            batch_size=128,\n",
    "                                            seed=42, \n",
    "                                            shuffle = True, \n",
    "                                            class_mode=\"raw\", \n",
    "                                            target_size=(128,128))"
   ]
  },
  {
   "cell_type": "code",
   "execution_count": 9,
   "id": "1e508d33",
   "metadata": {
    "execution": {
     "iopub.execute_input": "2023-01-15T14:26:27.110829Z",
     "iopub.status.busy": "2023-01-15T14:26:27.109601Z",
     "iopub.status.idle": "2023-01-15T14:26:27.313328Z",
     "shell.execute_reply": "2023-01-15T14:26:27.312053Z"
    },
    "papermill": {
     "duration": 0.21777,
     "end_time": "2023-01-15T14:26:27.316278",
     "exception": false,
     "start_time": "2023-01-15T14:26:27.098508",
     "status": "completed"
    },
    "tags": []
   },
   "outputs": [
    {
     "data": {
      "text/plain": [
       "21"
      ]
     },
     "execution_count": 9,
     "metadata": {},
     "output_type": "execute_result"
    }
   ],
   "source": [
    "gc.collect()"
   ]
  },
  {
   "cell_type": "code",
   "execution_count": 10,
   "id": "f8c6adb2",
   "metadata": {
    "execution": {
     "iopub.execute_input": "2023-01-15T14:26:27.338299Z",
     "iopub.status.busy": "2023-01-15T14:26:27.337477Z",
     "iopub.status.idle": "2023-01-15T14:26:30.769974Z",
     "shell.execute_reply": "2023-01-15T14:26:30.768529Z"
    },
    "papermill": {
     "duration": 3.447181,
     "end_time": "2023-01-15T14:26:30.773294",
     "exception": false,
     "start_time": "2023-01-15T14:26:27.326113",
     "status": "completed"
    },
    "tags": []
   },
   "outputs": [
    {
     "name": "stderr",
     "output_type": "stream",
     "text": [
      "2023-01-15 14:26:27.444842: I tensorflow/stream_executor/cuda/cuda_gpu_executor.cc:937] successful NUMA node read from SysFS had negative value (-1), but there must be at least one NUMA node, so returning NUMA node zero\n",
      "2023-01-15 14:26:27.554156: I tensorflow/stream_executor/cuda/cuda_gpu_executor.cc:937] successful NUMA node read from SysFS had negative value (-1), but there must be at least one NUMA node, so returning NUMA node zero\n",
      "2023-01-15 14:26:27.555251: I tensorflow/stream_executor/cuda/cuda_gpu_executor.cc:937] successful NUMA node read from SysFS had negative value (-1), but there must be at least one NUMA node, so returning NUMA node zero\n",
      "2023-01-15 14:26:27.557580: I tensorflow/core/platform/cpu_feature_guard.cc:142] This TensorFlow binary is optimized with oneAPI Deep Neural Network Library (oneDNN) to use the following CPU instructions in performance-critical operations:  AVX2 AVX512F FMA\n",
      "To enable them in other operations, rebuild TensorFlow with the appropriate compiler flags.\n",
      "2023-01-15 14:26:27.558178: I tensorflow/stream_executor/cuda/cuda_gpu_executor.cc:937] successful NUMA node read from SysFS had negative value (-1), but there must be at least one NUMA node, so returning NUMA node zero\n",
      "2023-01-15 14:26:27.559245: I tensorflow/stream_executor/cuda/cuda_gpu_executor.cc:937] successful NUMA node read from SysFS had negative value (-1), but there must be at least one NUMA node, so returning NUMA node zero\n",
      "2023-01-15 14:26:27.560178: I tensorflow/stream_executor/cuda/cuda_gpu_executor.cc:937] successful NUMA node read from SysFS had negative value (-1), but there must be at least one NUMA node, so returning NUMA node zero\n",
      "2023-01-15 14:26:30.095892: I tensorflow/stream_executor/cuda/cuda_gpu_executor.cc:937] successful NUMA node read from SysFS had negative value (-1), but there must be at least one NUMA node, so returning NUMA node zero\n",
      "2023-01-15 14:26:30.097028: I tensorflow/stream_executor/cuda/cuda_gpu_executor.cc:937] successful NUMA node read from SysFS had negative value (-1), but there must be at least one NUMA node, so returning NUMA node zero\n",
      "2023-01-15 14:26:30.098061: I tensorflow/stream_executor/cuda/cuda_gpu_executor.cc:937] successful NUMA node read from SysFS had negative value (-1), but there must be at least one NUMA node, so returning NUMA node zero\n",
      "2023-01-15 14:26:30.098869: I tensorflow/core/common_runtime/gpu/gpu_device.cc:1510] Created device /job:localhost/replica:0/task:0/device:GPU:0 with 15401 MB memory:  -> device: 0, name: Tesla P100-PCIE-16GB, pci bus id: 0000:00:04.0, compute capability: 6.0\n"
     ]
    }
   ],
   "source": [
    "model = Sequential()\n",
    "#input layer\n",
    "model.add(BatchNormalization(input_shape=(128, 128, 3)))\n",
    "model.add(Conv2D(32, kernel_size=(3, 3), padding='same', activation='relu'))\n",
    "model.add(Conv2D(32, kernel_size=(3, 3), activation='relu'))\n",
    "model.add(MaxPooling2D(pool_size=(2, 2)))\n",
    "model.add(Dropout(0.2))\n",
    "\n",
    "#Hidden layers\n",
    "model.add(Conv2D(64, kernel_size=(3, 3), padding='same', activation='relu'))\n",
    "model.add(Conv2D(64, kernel_size=(3, 3), activation='relu'))\n",
    "model.add(MaxPooling2D(pool_size=(2, 2)))\n",
    "model.add(Dropout(0.2))\n",
    "\n",
    "model.add(Conv2D(128, kernel_size=(3, 3), padding='same', activation='relu'))\n",
    "model.add(Conv2D(128, kernel_size=(3, 3), activation='relu'))\n",
    "model.add(MaxPooling2D(pool_size=(2, 2)))\n",
    "model.add(Dropout(0.2))\n",
    "\n",
    "model.add(Conv2D(256, kernel_size=(3, 3), padding='same', activation='relu'))\n",
    "model.add(Conv2D(256, kernel_size=(3, 3), activation='relu'))\n",
    "model.add(MaxPooling2D(pool_size=(2, 2)))\n",
    "model.add(Dropout(0.2))\n",
    "\n",
    "model.add(Flatten())\n",
    "model.add(Dense(512, activation='relu'))\n",
    "model.add(Dropout(0.5))\n",
    "\n",
    "#Output layer\n",
    "model.add(Dense(17, activation='sigmoid'))"
   ]
  },
  {
   "cell_type": "code",
   "execution_count": 11,
   "id": "6a3958fe",
   "metadata": {
    "execution": {
     "iopub.execute_input": "2023-01-15T14:26:30.795889Z",
     "iopub.status.busy": "2023-01-15T14:26:30.795373Z",
     "iopub.status.idle": "2023-01-15T14:26:30.802098Z",
     "shell.execute_reply": "2023-01-15T14:26:30.800334Z"
    },
    "papermill": {
     "duration": 0.022452,
     "end_time": "2023-01-15T14:26:30.806011",
     "exception": false,
     "start_time": "2023-01-15T14:26:30.783559",
     "status": "completed"
    },
    "tags": []
   },
   "outputs": [],
   "source": [
    "train_steps = train_gen.n // train_gen.batch_size\n",
    "val_steps = val_gen.n // train_gen.batch_size"
   ]
  },
  {
   "cell_type": "code",
   "execution_count": 12,
   "id": "07488292",
   "metadata": {
    "execution": {
     "iopub.execute_input": "2023-01-15T14:26:30.828473Z",
     "iopub.status.busy": "2023-01-15T14:26:30.828030Z",
     "iopub.status.idle": "2023-01-15T14:26:30.841092Z",
     "shell.execute_reply": "2023-01-15T14:26:30.839751Z"
    },
    "papermill": {
     "duration": 0.02757,
     "end_time": "2023-01-15T14:26:30.843806",
     "exception": false,
     "start_time": "2023-01-15T14:26:30.816236",
     "status": "completed"
    },
    "tags": []
   },
   "outputs": [],
   "source": [
    "def fbeta_score(y_true, y_pred, beta = 2, epsilon = 1e-4):\n",
    "    beta_squared = beta**2\n",
    "    \n",
    "    y_true = tf.cast(y_true, tf.float32)\n",
    "    y_pred = tf.cast(tf.greater(tf.cast(y_pred, tf.float32), tf.constant(0.5)), tf.float32)\n",
    "    \n",
    "    tp = tf.reduce_sum(y_true * y_pred, axis = 1)\n",
    "    fp = tf.reduce_sum(y_pred, axis = 1) - tp\n",
    "    fn = tf.reduce_sum(y_true, axis = 1) - tp\n",
    "    \n",
    "    precision = tp/(tp +fp +epsilon)\n",
    "    recall = tp/(tp + fn + epsilon)\n",
    "    \n",
    "    return (1 + beta_squared) * precision * recall / (beta_squared * precision + recall + epsilon)\n",
    "def accuracy(y_true, y_pred, epsilon = 1e-4):\n",
    "    y_true = tf.cast(y_true, tf.float32)\n",
    "    y_pred = tf.cast(tf.greater(tf.cast(y_pred, tf.float32), tf.constant(0.5)), tf.float32)\n",
    "    \n",
    "    tp = tf.reduce_sum(y_true * y_pred, axis = 1)\n",
    "    fp = tf.reduce_sum(y_pred, axis = 1) - tp\n",
    "    fn = tf.reduce_sum(y_true, axis = 1) - tp\n",
    "    \n",
    "    y_true = tf.cast(y_true, tf.bool)\n",
    "    y_pred = tf.cast(y_pred, tf.bool)\n",
    "        \n",
    "    tn = tf.reduce_sum(tf.cast(tf.logical_not(y_true), tf.float32) * tf.cast(tf.logical_not(y_pred), tf.float32),                 axis = 1)\n",
    "    return (tp + tn)/(tp + tn + fp + fn + epsilon)"
   ]
  },
  {
   "cell_type": "code",
   "execution_count": 13,
   "id": "2a4ef2ea",
   "metadata": {
    "execution": {
     "iopub.execute_input": "2023-01-15T14:26:30.865881Z",
     "iopub.status.busy": "2023-01-15T14:26:30.864714Z",
     "iopub.status.idle": "2023-01-15T14:26:30.884302Z",
     "shell.execute_reply": "2023-01-15T14:26:30.883012Z"
    },
    "papermill": {
     "duration": 0.033969,
     "end_time": "2023-01-15T14:26:30.887575",
     "exception": false,
     "start_time": "2023-01-15T14:26:30.853606",
     "status": "completed"
    },
    "tags": []
   },
   "outputs": [],
   "source": [
    "model.compile(loss='binary_crossentropy',\n",
    "              optimizer='adam',\n",
    "              metrics=[fbeta_score,accuracy])\n",
    "\n",
    "# Save the callback\n",
    "callback = EarlyStopping(\n",
    "    monitor=\"val_loss\", \n",
    "    patience=2,\n",
    "    verbose=0,\n",
    "    baseline=None,\n",
    "    restore_best_weights=True,\n",
    ")"
   ]
  },
  {
   "cell_type": "code",
   "execution_count": 14,
   "id": "7425b7b2",
   "metadata": {
    "execution": {
     "iopub.execute_input": "2023-01-15T14:26:30.908631Z",
     "iopub.status.busy": "2023-01-15T14:26:30.908212Z",
     "iopub.status.idle": "2023-01-15T14:26:30.916750Z",
     "shell.execute_reply": "2023-01-15T14:26:30.915446Z"
    },
    "papermill": {
     "duration": 0.02253,
     "end_time": "2023-01-15T14:26:30.919769",
     "exception": false,
     "start_time": "2023-01-15T14:26:30.897239",
     "status": "completed"
    },
    "tags": []
   },
   "outputs": [
    {
     "data": {
      "text/plain": [
       "[PhysicalDevice(name='/physical_device:CPU:0', device_type='CPU'),\n",
       " PhysicalDevice(name='/physical_device:GPU:0', device_type='GPU')]"
      ]
     },
     "execution_count": 14,
     "metadata": {},
     "output_type": "execute_result"
    }
   ],
   "source": [
    "tf.config.list_physical_devices()"
   ]
  },
  {
   "cell_type": "code",
   "execution_count": 15,
   "id": "7e051949",
   "metadata": {
    "execution": {
     "iopub.execute_input": "2023-01-15T14:26:30.941915Z",
     "iopub.status.busy": "2023-01-15T14:26:30.940625Z",
     "iopub.status.idle": "2023-01-15T14:59:53.133763Z",
     "shell.execute_reply": "2023-01-15T14:59:53.132187Z"
    },
    "papermill": {
     "duration": 2002.413961,
     "end_time": "2023-01-15T14:59:53.343389",
     "exception": false,
     "start_time": "2023-01-15T14:26:30.929428",
     "status": "completed"
    },
    "tags": []
   },
   "outputs": [
    {
     "name": "stderr",
     "output_type": "stream",
     "text": [
      "2023-01-15 14:26:32.228882: I tensorflow/compiler/mlir/mlir_graph_optimization_pass.cc:185] None of the MLIR Optimization Passes are enabled (registered 2)\n"
     ]
    },
    {
     "name": "stdout",
     "output_type": "stream",
     "text": [
      "Epoch 1/20\n"
     ]
    },
    {
     "name": "stderr",
     "output_type": "stream",
     "text": [
      "2023-01-15 14:26:36.632344: I tensorflow/stream_executor/cuda/cuda_dnn.cc:369] Loaded cuDNN version 8005\n"
     ]
    },
    {
     "name": "stdout",
     "output_type": "stream",
     "text": [
      "253/253 [==============================] - 390s 1s/step - loss: 0.2362 - fbeta_score: 0.6753 - accuracy: 0.9101 - val_loss: 0.1975 - val_fbeta_score: 0.7098 - val_accuracy: 0.9219\n",
      "Epoch 2/20\n",
      "253/253 [==============================] - 143s 566ms/step - loss: 0.1663 - fbeta_score: 0.7818 - accuracy: 0.9347 - val_loss: 0.1530 - val_fbeta_score: 0.7934 - val_accuracy: 0.9390\n",
      "Epoch 3/20\n",
      "253/253 [==============================] - 141s 556ms/step - loss: 0.1502 - fbeta_score: 0.8044 - accuracy: 0.9408 - val_loss: 0.1372 - val_fbeta_score: 0.8150 - val_accuracy: 0.9459\n",
      "Epoch 4/20\n",
      "253/253 [==============================] - 138s 545ms/step - loss: 0.1398 - fbeta_score: 0.8184 - accuracy: 0.9440 - val_loss: 0.1359 - val_fbeta_score: 0.8119 - val_accuracy: 0.9457\n",
      "Epoch 5/20\n",
      "253/253 [==============================] - 139s 549ms/step - loss: 0.1335 - fbeta_score: 0.8299 - accuracy: 0.9469 - val_loss: 0.1253 - val_fbeta_score: 0.8429 - val_accuracy: 0.9494\n",
      "Epoch 6/20\n",
      "253/253 [==============================] - 141s 557ms/step - loss: 0.1301 - fbeta_score: 0.8375 - accuracy: 0.9489 - val_loss: 0.1242 - val_fbeta_score: 0.8480 - val_accuracy: 0.9517\n",
      "Epoch 7/20\n",
      "253/253 [==============================] - 141s 557ms/step - loss: 0.1217 - fbeta_score: 0.8513 - accuracy: 0.9521 - val_loss: 0.1231 - val_fbeta_score: 0.8538 - val_accuracy: 0.9525\n",
      "Epoch 8/20\n",
      "253/253 [==============================] - 142s 560ms/step - loss: 0.1178 - fbeta_score: 0.8581 - accuracy: 0.9538 - val_loss: 0.1152 - val_fbeta_score: 0.8592 - val_accuracy: 0.9551\n",
      "Epoch 9/20\n",
      "253/253 [==============================] - 141s 556ms/step - loss: 0.1135 - fbeta_score: 0.8655 - accuracy: 0.9558 - val_loss: 0.1145 - val_fbeta_score: 0.8605 - val_accuracy: 0.9551\n",
      "Epoch 10/20\n",
      "253/253 [==============================] - 146s 579ms/step - loss: 0.1111 - fbeta_score: 0.8677 - accuracy: 0.9565 - val_loss: 0.1085 - val_fbeta_score: 0.8741 - val_accuracy: 0.9583\n",
      "Epoch 11/20\n",
      "253/253 [==============================] - 142s 561ms/step - loss: 0.1058 - fbeta_score: 0.8734 - accuracy: 0.9583 - val_loss: 0.1094 - val_fbeta_score: 0.8743 - val_accuracy: 0.9585\n",
      "Epoch 12/20\n",
      "253/253 [==============================] - 141s 555ms/step - loss: 0.1034 - fbeta_score: 0.8764 - accuracy: 0.9592 - val_loss: 0.1134 - val_fbeta_score: 0.8726 - val_accuracy: 0.9580\n"
     ]
    }
   ],
   "source": [
    "history = model.fit(x=train_gen,\n",
    "                    steps_per_epoch=train_steps,\n",
    "                    validation_data=val_gen,\n",
    "                    validation_steps=val_steps,\n",
    "                    epochs=20,\n",
    "                    callbacks=[callback]) "
   ]
  },
  {
   "cell_type": "code",
   "execution_count": 16,
   "id": "8c425ad2",
   "metadata": {
    "execution": {
     "iopub.execute_input": "2023-01-15T14:59:53.844418Z",
     "iopub.status.busy": "2023-01-15T14:59:53.843557Z",
     "iopub.status.idle": "2023-01-15T14:59:54.488956Z",
     "shell.execute_reply": "2023-01-15T14:59:54.487568Z"
    },
    "papermill": {
     "duration": 0.934934,
     "end_time": "2023-01-15T14:59:54.492305",
     "exception": false,
     "start_time": "2023-01-15T14:59:53.557371",
     "status": "completed"
    },
    "tags": []
   },
   "outputs": [
    {
     "data": {
      "image/png": "[encoded data removed]",
      "text/plain": [
       "<Figure size 1296x576 with 3 Axes>"
      ]
     },
     "metadata": {
      "needs_background": "light"
     },
     "output_type": "display_data"
    }
   ],
   "source": [
    "hist_dict = history.history\n",
    "loss = hist_dict['loss']\n",
    "val_loss=hist_dict[\"val_loss\"]\n",
    "\n",
    "fbeta = hist_dict['fbeta_score']\n",
    "val_fbeta = hist_dict['val_fbeta_score']\n",
    "\n",
    "acc = hist_dict['accuracy']\n",
    "val_acc = hist_dict['val_accuracy']\n",
    "\n",
    "epochs = range(1,1+len(acc))\n",
    "fig,(ax1,ax2,ax3) = plt.subplots(ncols=3,figsize=(18,8))\n",
    "ax1.plot(epochs,loss, label='Loss', color = 'red')\n",
    "ax1.plot(epochs,val_loss,label='Validation Loss', color = 'green')\n",
    "ax1.set_title('Loss vs Validation Loss')\n",
    "ax1.set_ylabel('Loss')\n",
    "\n",
    "\n",
    "ax2.plot(epochs,fbeta,label='FBeta', color = 'red')\n",
    "ax2.plot(epochs,val_fbeta,label='Validation FBeta', color = 'green')\n",
    "ax2.set_title('FBeta vs Validation FBeta')\n",
    "ax2.set_ylabel('Fbeta Score')\n",
    "\n",
    "ax3.plot(epochs,acc,label='Accuracy', color = 'red')\n",
    "ax3.plot(epochs,val_acc,label='Validation Accuracy', color = 'green')\n",
    "ax3.set_title('Accuracy vs Validation Accuracy')\n",
    "ax3.set_ylabel('Accuracy')\n",
    "\n",
    "for x in (ax1,ax2,ax3):\n",
    "    x.set_xlabel('Epochs')\n",
    "plt.show()"
   ]
  },
  {
   "cell_type": "code",
   "execution_count": 17,
   "id": "b3be1743",
   "metadata": {
    "execution": {
     "iopub.execute_input": "2023-01-15T14:59:54.931680Z",
     "iopub.status.busy": "2023-01-15T14:59:54.931157Z",
     "iopub.status.idle": "2023-01-15T14:59:55.078008Z",
     "shell.execute_reply": "2023-01-15T14:59:55.076353Z"
    },
    "papermill": {
     "duration": 0.376736,
     "end_time": "2023-01-15T14:59:55.087847",
     "exception": false,
     "start_time": "2023-01-15T14:59:54.711111",
     "status": "completed"
    },
    "tags": []
   },
   "outputs": [
    {
     "data": {
      "text/html": [
       "<div>\n",
       "<style scoped>\n",
       "    .dataframe tbody tr th:only-of-type {\n",
       "        vertical-align: middle;\n",
       "    }\n",
       "\n",
       "    .dataframe tbody tr th {\n",
       "        vertical-align: top;\n",
       "    }\n",
       "\n",
       "    .dataframe thead th {\n",
       "        text-align: right;\n",
       "    }\n",
       "</style>\n",
       "<table border=\"1\" class=\"dataframe\">\n",
       "  <thead>\n",
       "    <tr style=\"text-align: right;\">\n",
       "      <th></th>\n",
       "      <th>image_name</th>\n",
       "    </tr>\n",
       "  </thead>\n",
       "  <tbody>\n",
       "    <tr>\n",
       "      <th>0</th>\n",
       "      <td>test_0.jpg</td>\n",
       "    </tr>\n",
       "    <tr>\n",
       "      <th>1</th>\n",
       "      <td>test_1.jpg</td>\n",
       "    </tr>\n",
       "    <tr>\n",
       "      <th>2</th>\n",
       "      <td>test_2.jpg</td>\n",
       "    </tr>\n",
       "    <tr>\n",
       "      <th>3</th>\n",
       "      <td>test_3.jpg</td>\n",
       "    </tr>\n",
       "    <tr>\n",
       "      <th>4</th>\n",
       "      <td>test_4.jpg</td>\n",
       "    </tr>\n",
       "  </tbody>\n",
       "</table>\n",
       "</div>"
      ],
      "text/plain": [
       "   image_name\n",
       "0  test_0.jpg\n",
       "1  test_1.jpg\n",
       "2  test_2.jpg\n",
       "3  test_3.jpg\n",
       "4  test_4.jpg"
      ]
     },
     "execution_count": 17,
     "metadata": {},
     "output_type": "execute_result"
    }
   ],
   "source": [
    "submission_df = pd.read_csv(os.path.join(path,'sample_submission.csv'))\n",
    "test_df = submission_df.iloc[:40669]['image_name'].reset_index().drop('index', axis =1)\n",
    "\n",
    "test_df['image_name'] = submission_df['image_name'].apply(lambda x: x+'.jpg')\n",
    "test_df.head()"
   ]
  },
  {
   "cell_type": "code",
   "execution_count": 18,
   "id": "225d8f42",
   "metadata": {
    "execution": {
     "iopub.execute_input": "2023-01-15T14:59:55.835270Z",
     "iopub.status.busy": "2023-01-15T14:59:55.833838Z",
     "iopub.status.idle": "2023-01-15T15:02:11.080256Z",
     "shell.execute_reply": "2023-01-15T15:02:11.078744Z"
    },
    "papermill": {
     "duration": 135.805529,
     "end_time": "2023-01-15T15:02:11.299422",
     "exception": false,
     "start_time": "2023-01-15T14:59:55.493893",
     "status": "completed"
    },
    "tags": []
   },
   "outputs": [
    {
     "name": "stdout",
     "output_type": "stream",
     "text": [
      "Found 40669 validated image filenames.\n"
     ]
    }
   ],
   "source": [
    "test_generator = ImageDataGenerator(rescale = 1./255)\n",
    "\n",
    "test_gen = test_generator.flow_from_dataframe(dataframe=test_df,\n",
    "                                            directory = os.path.join(path,'test-jpg'),  \n",
    "                                            x_col=\"image_name\", \n",
    "                                            y_col=None, \n",
    "                                            batch_size=67,\n",
    "                                            shuffle=False,\n",
    "                                            class_mode=None, \n",
    "                                            target_size=(128,128))\n",
    "\n",
    "test_size = test_gen.n // test_gen.batch_size"
   ]
  },
  {
   "cell_type": "code",
   "execution_count": 19,
   "id": "f636caf7",
   "metadata": {
    "execution": {
     "iopub.execute_input": "2023-01-15T15:02:11.739506Z",
     "iopub.status.busy": "2023-01-15T15:02:11.739033Z",
     "iopub.status.idle": "2023-01-15T15:08:38.171521Z",
     "shell.execute_reply": "2023-01-15T15:08:38.169590Z"
    },
    "papermill": {
     "duration": 386.662763,
     "end_time": "2023-01-15T15:08:38.175267",
     "exception": false,
     "start_time": "2023-01-15T15:02:11.512504",
     "status": "completed"
    },
    "tags": []
   },
   "outputs": [
    {
     "name": "stdout",
     "output_type": "stream",
     "text": [
      "607/607 [==============================] - 386s 635ms/step\n"
     ]
    }
   ],
   "source": [
    "pred = model.predict(test_gen, steps=test_size, verbose=1)"
   ]
  },
  {
   "cell_type": "code",
   "execution_count": 20,
   "id": "de8b82d1",
   "metadata": {
    "execution": {
     "iopub.execute_input": "2023-01-15T15:08:38.786994Z",
     "iopub.status.busy": "2023-01-15T15:08:38.785451Z",
     "iopub.status.idle": "2023-01-15T15:08:50.393975Z",
     "shell.execute_reply": "2023-01-15T15:08:50.392690Z"
    },
    "papermill": {
     "duration": 11.876773,
     "end_time": "2023-01-15T15:08:50.396845",
     "exception": false,
     "start_time": "2023-01-15T15:08:38.520072",
     "status": "completed"
    },
    "tags": []
   },
   "outputs": [
    {
     "data": {
      "text/html": [
       "<div>\n",
       "<style scoped>\n",
       "    .dataframe tbody tr th:only-of-type {\n",
       "        vertical-align: middle;\n",
       "    }\n",
       "\n",
       "    .dataframe tbody tr th {\n",
       "        vertical-align: top;\n",
       "    }\n",
       "\n",
       "    .dataframe thead th {\n",
       "        text-align: right;\n",
       "    }\n",
       "</style>\n",
       "<table border=\"1\" class=\"dataframe\">\n",
       "  <thead>\n",
       "    <tr style=\"text-align: right;\">\n",
       "      <th></th>\n",
       "      <th>image_name</th>\n",
       "      <th>tags</th>\n",
       "    </tr>\n",
       "  </thead>\n",
       "  <tbody>\n",
       "    <tr>\n",
       "      <th>0</th>\n",
       "      <td>test_0.jpg</td>\n",
       "      <td>primary clear</td>\n",
       "    </tr>\n",
       "    <tr>\n",
       "      <th>1</th>\n",
       "      <td>test_1.jpg</td>\n",
       "      <td>primary clear</td>\n",
       "    </tr>\n",
       "    <tr>\n",
       "      <th>2</th>\n",
       "      <td>test_2.jpg</td>\n",
       "      <td>primary partly_cloudy</td>\n",
       "    </tr>\n",
       "    <tr>\n",
       "      <th>3</th>\n",
       "      <td>test_3.jpg</td>\n",
       "      <td>primary clear</td>\n",
       "    </tr>\n",
       "    <tr>\n",
       "      <th>4</th>\n",
       "      <td>test_4.jpg</td>\n",
       "      <td>primary partly_cloudy</td>\n",
       "    </tr>\n",
       "  </tbody>\n",
       "</table>\n",
       "</div>"
      ],
      "text/plain": [
       "   image_name                   tags\n",
       "0  test_0.jpg          primary clear\n",
       "1  test_1.jpg          primary clear\n",
       "2  test_2.jpg  primary partly_cloudy\n",
       "3  test_3.jpg          primary clear\n",
       "4  test_4.jpg  primary partly_cloudy"
      ]
     },
     "execution_count": 20,
     "metadata": {},
     "output_type": "execute_result"
    }
   ],
   "source": [
    "test_names = test_gen.filenames \n",
    "        \n",
    "test_result = pd.DataFrame(pred)\n",
    "test_result = test_result.apply(lambda x: ' '.join(np.array(unique_tags)[x >= 0.2]), axis=1)\n",
    "\n",
    "test_result_df = pd.DataFrame({'image_name': test_names, 'tags': test_result})\n",
    "test_result_df.head()"
   ]
  },
  {
   "cell_type": "code",
   "execution_count": 21,
   "id": "41c43f8e",
   "metadata": {
    "execution": {
     "iopub.execute_input": "2023-01-15T15:08:50.902008Z",
     "iopub.status.busy": "2023-01-15T15:08:50.900914Z",
     "iopub.status.idle": "2023-01-15T15:08:50.914180Z",
     "shell.execute_reply": "2023-01-15T15:08:50.912210Z"
    },
    "papermill": {
     "duration": 0.26754,
     "end_time": "2023-01-15T15:08:50.917174",
     "exception": false,
     "start_time": "2023-01-15T15:08:50.649634",
     "status": "completed"
    },
    "tags": []
   },
   "outputs": [],
   "source": [
    "additional_df = submission_df.iloc[40669:]['image_name'].reset_index().drop('index', axis=1)"
   ]
  },
  {
   "cell_type": "code",
   "execution_count": 22,
   "id": "7e4aac40",
   "metadata": {
    "execution": {
     "iopub.execute_input": "2023-01-15T15:08:51.425254Z",
     "iopub.status.busy": "2023-01-15T15:08:51.424497Z",
     "iopub.status.idle": "2023-01-15T15:08:51.445727Z",
     "shell.execute_reply": "2023-01-15T15:08:51.444401Z"
    },
    "papermill": {
     "duration": 0.278313,
     "end_time": "2023-01-15T15:08:51.448481",
     "exception": false,
     "start_time": "2023-01-15T15:08:51.170168",
     "status": "completed"
    },
    "tags": []
   },
   "outputs": [
    {
     "data": {
      "text/html": [
       "<div>\n",
       "<style scoped>\n",
       "    .dataframe tbody tr th:only-of-type {\n",
       "        vertical-align: middle;\n",
       "    }\n",
       "\n",
       "    .dataframe tbody tr th {\n",
       "        vertical-align: top;\n",
       "    }\n",
       "\n",
       "    .dataframe thead th {\n",
       "        text-align: right;\n",
       "    }\n",
       "</style>\n",
       "<table border=\"1\" class=\"dataframe\">\n",
       "  <thead>\n",
       "    <tr style=\"text-align: right;\">\n",
       "      <th></th>\n",
       "      <th>image_name</th>\n",
       "    </tr>\n",
       "  </thead>\n",
       "  <tbody>\n",
       "    <tr>\n",
       "      <th>0</th>\n",
       "      <td>file_0.jpg</td>\n",
       "    </tr>\n",
       "    <tr>\n",
       "      <th>1</th>\n",
       "      <td>file_1.jpg</td>\n",
       "    </tr>\n",
       "    <tr>\n",
       "      <th>2</th>\n",
       "      <td>file_10.jpg</td>\n",
       "    </tr>\n",
       "    <tr>\n",
       "      <th>3</th>\n",
       "      <td>file_100.jpg</td>\n",
       "    </tr>\n",
       "    <tr>\n",
       "      <th>4</th>\n",
       "      <td>file_1000.jpg</td>\n",
       "    </tr>\n",
       "  </tbody>\n",
       "</table>\n",
       "</div>"
      ],
      "text/plain": [
       "      image_name\n",
       "0     file_0.jpg\n",
       "1     file_1.jpg\n",
       "2    file_10.jpg\n",
       "3   file_100.jpg\n",
       "4  file_1000.jpg"
      ]
     },
     "execution_count": 22,
     "metadata": {},
     "output_type": "execute_result"
    }
   ],
   "source": [
    "additional_df['image_name'] = additional_df['image_name'].apply(lambda x: '{}.jpg'.format(x))\n",
    "additional_df.head()"
   ]
  },
  {
   "cell_type": "code",
   "execution_count": 23,
   "id": "6e03effc",
   "metadata": {
    "execution": {
     "iopub.execute_input": "2023-01-15T15:08:51.956906Z",
     "iopub.status.busy": "2023-01-15T15:08:51.955842Z",
     "iopub.status.idle": "2023-01-15T15:09:58.475067Z",
     "shell.execute_reply": "2023-01-15T15:09:58.473729Z"
    },
    "papermill": {
     "duration": 67.030358,
     "end_time": "2023-01-15T15:09:58.731183",
     "exception": false,
     "start_time": "2023-01-15T15:08:51.700825",
     "status": "completed"
    },
    "tags": []
   },
   "outputs": [
    {
     "name": "stdout",
     "output_type": "stream",
     "text": [
      "Found 20522 validated image filenames.\n"
     ]
    }
   ],
   "source": [
    "additional_gen = test_generator.flow_from_dataframe(dataframe=additional_df,\n",
    "                                                  directory=\"../input/planets-dataset/test-jpg-additional/test-jpg-additional\", \n",
    "                                                  x_col='image_name',\n",
    "                                                  y_col = None,\n",
    "                                                  batch_size=62,\n",
    "                                                  shuffle=False,\n",
    "                                                  class_mode=None, \n",
    "                                                  target_size=(128, 128))\n",
    "\n",
    "\n",
    "additional_step = additional_gen.n // additional_gen.batch_size"
   ]
  },
  {
   "cell_type": "code",
   "execution_count": 24,
   "id": "c26827d4",
   "metadata": {
    "execution": {
     "iopub.execute_input": "2023-01-15T15:09:59.314347Z",
     "iopub.status.busy": "2023-01-15T15:09:59.313480Z",
     "iopub.status.idle": "2023-01-15T15:13:27.025886Z",
     "shell.execute_reply": "2023-01-15T15:13:27.024522Z"
    },
    "papermill": {
     "duration": 207.974033,
     "end_time": "2023-01-15T15:13:27.029037",
     "exception": false,
     "start_time": "2023-01-15T15:09:59.055004",
     "status": "completed"
    },
    "tags": []
   },
   "outputs": [
    {
     "name": "stdout",
     "output_type": "stream",
     "text": [
      "331/331 [==============================] - 207s 625ms/step\n"
     ]
    }
   ],
   "source": [
    "pred_additional = model.predict(additional_gen, steps=additional_step, verbose=1)"
   ]
  },
  {
   "cell_type": "code",
   "execution_count": 25,
   "id": "cf8dcc6e",
   "metadata": {
    "execution": {
     "iopub.execute_input": "2023-01-15T15:13:27.653439Z",
     "iopub.status.busy": "2023-01-15T15:13:27.653000Z",
     "iopub.status.idle": "2023-01-15T15:13:33.431148Z",
     "shell.execute_reply": "2023-01-15T15:13:33.429700Z"
    },
    "papermill": {
     "duration": 6.059959,
     "end_time": "2023-01-15T15:13:33.434133",
     "exception": false,
     "start_time": "2023-01-15T15:13:27.374174",
     "status": "completed"
    },
    "tags": []
   },
   "outputs": [
    {
     "data": {
      "text/html": [
       "<div>\n",
       "<style scoped>\n",
       "    .dataframe tbody tr th:only-of-type {\n",
       "        vertical-align: middle;\n",
       "    }\n",
       "\n",
       "    .dataframe tbody tr th {\n",
       "        vertical-align: top;\n",
       "    }\n",
       "\n",
       "    .dataframe thead th {\n",
       "        text-align: right;\n",
       "    }\n",
       "</style>\n",
       "<table border=\"1\" class=\"dataframe\">\n",
       "  <thead>\n",
       "    <tr style=\"text-align: right;\">\n",
       "      <th></th>\n",
       "      <th>image_name</th>\n",
       "      <th>tags</th>\n",
       "    </tr>\n",
       "  </thead>\n",
       "  <tbody>\n",
       "    <tr>\n",
       "      <th>0</th>\n",
       "      <td>file_0.jpg</td>\n",
       "      <td>primary clear</td>\n",
       "    </tr>\n",
       "    <tr>\n",
       "      <th>1</th>\n",
       "      <td>file_1.jpg</td>\n",
       "      <td>primary agriculture road partly_cloudy</td>\n",
       "    </tr>\n",
       "    <tr>\n",
       "      <th>2</th>\n",
       "      <td>file_10.jpg</td>\n",
       "      <td>haze primary agriculture water road</td>\n",
       "    </tr>\n",
       "    <tr>\n",
       "      <th>3</th>\n",
       "      <td>file_100.jpg</td>\n",
       "      <td>primary agriculture clear water road</td>\n",
       "    </tr>\n",
       "    <tr>\n",
       "      <th>4</th>\n",
       "      <td>file_1000.jpg</td>\n",
       "      <td>primary clear</td>\n",
       "    </tr>\n",
       "  </tbody>\n",
       "</table>\n",
       "</div>"
      ],
      "text/plain": [
       "      image_name                                    tags\n",
       "0     file_0.jpg                           primary clear\n",
       "1     file_1.jpg  primary agriculture road partly_cloudy\n",
       "2    file_10.jpg     haze primary agriculture water road\n",
       "3   file_100.jpg    primary agriculture clear water road\n",
       "4  file_1000.jpg                           primary clear"
      ]
     },
     "execution_count": 25,
     "metadata": {},
     "output_type": "execute_result"
    }
   ],
   "source": [
    "additional_names = additional_gen.filenames \n",
    "        \n",
    "additional_result = pd.DataFrame(pred_additional)\n",
    "additional_result = additional_result.apply(lambda x: ' '.join(np.array(unique_tags)[x >= 0.2]), axis=1)\n",
    "\n",
    "additional_result_df = pd.DataFrame({'image_name': additional_names, 'tags': additional_result})\n",
    "additional_result_df.head()"
   ]
  },
  {
   "cell_type": "code",
   "execution_count": 26,
   "id": "dc36178c",
   "metadata": {
    "execution": {
     "iopub.execute_input": "2023-01-15T15:13:33.981925Z",
     "iopub.status.busy": "2023-01-15T15:13:33.981443Z",
     "iopub.status.idle": "2023-01-15T15:13:34.006171Z",
     "shell.execute_reply": "2023-01-15T15:13:34.004744Z"
    },
    "papermill": {
     "duration": 0.304777,
     "end_time": "2023-01-15T15:13:34.009784",
     "exception": false,
     "start_time": "2023-01-15T15:13:33.705007",
     "status": "completed"
    },
    "tags": []
   },
   "outputs": [
    {
     "data": {
      "text/html": [
       "<div>\n",
       "<style scoped>\n",
       "    .dataframe tbody tr th:only-of-type {\n",
       "        vertical-align: middle;\n",
       "    }\n",
       "\n",
       "    .dataframe tbody tr th {\n",
       "        vertical-align: top;\n",
       "    }\n",
       "\n",
       "    .dataframe thead th {\n",
       "        text-align: right;\n",
       "    }\n",
       "</style>\n",
       "<table border=\"1\" class=\"dataframe\">\n",
       "  <thead>\n",
       "    <tr style=\"text-align: right;\">\n",
       "      <th></th>\n",
       "      <th>image_name</th>\n",
       "      <th>tags</th>\n",
       "    </tr>\n",
       "  </thead>\n",
       "  <tbody>\n",
       "    <tr>\n",
       "      <th>0</th>\n",
       "      <td>test_0.jpg</td>\n",
       "      <td>primary clear</td>\n",
       "    </tr>\n",
       "    <tr>\n",
       "      <th>1</th>\n",
       "      <td>test_1.jpg</td>\n",
       "      <td>primary clear</td>\n",
       "    </tr>\n",
       "    <tr>\n",
       "      <th>2</th>\n",
       "      <td>test_2.jpg</td>\n",
       "      <td>primary partly_cloudy</td>\n",
       "    </tr>\n",
       "    <tr>\n",
       "      <th>3</th>\n",
       "      <td>test_3.jpg</td>\n",
       "      <td>primary clear</td>\n",
       "    </tr>\n",
       "    <tr>\n",
       "      <th>4</th>\n",
       "      <td>test_4.jpg</td>\n",
       "      <td>primary partly_cloudy</td>\n",
       "    </tr>\n",
       "    <tr>\n",
       "      <th>...</th>\n",
       "      <td>...</td>\n",
       "      <td>...</td>\n",
       "    </tr>\n",
       "    <tr>\n",
       "      <th>61186</th>\n",
       "      <td>file_9995.jpg</td>\n",
       "      <td>primary cloudy partly_cloudy</td>\n",
       "    </tr>\n",
       "    <tr>\n",
       "      <th>61187</th>\n",
       "      <td>file_9996.jpg</td>\n",
       "      <td>primary clear water</td>\n",
       "    </tr>\n",
       "    <tr>\n",
       "      <th>61188</th>\n",
       "      <td>file_9997.jpg</td>\n",
       "      <td>primary clear water</td>\n",
       "    </tr>\n",
       "    <tr>\n",
       "      <th>61189</th>\n",
       "      <td>file_9998.jpg</td>\n",
       "      <td>cloudy</td>\n",
       "    </tr>\n",
       "    <tr>\n",
       "      <th>61190</th>\n",
       "      <td>file_9999.jpg</td>\n",
       "      <td>primary agriculture clear habitation road</td>\n",
       "    </tr>\n",
       "  </tbody>\n",
       "</table>\n",
       "<p>61191 rows × 2 columns</p>\n",
       "</div>"
      ],
      "text/plain": [
       "          image_name                                       tags\n",
       "0         test_0.jpg                              primary clear\n",
       "1         test_1.jpg                              primary clear\n",
       "2         test_2.jpg                      primary partly_cloudy\n",
       "3         test_3.jpg                              primary clear\n",
       "4         test_4.jpg                      primary partly_cloudy\n",
       "...              ...                                        ...\n",
       "61186  file_9995.jpg               primary cloudy partly_cloudy\n",
       "61187  file_9996.jpg                        primary clear water\n",
       "61188  file_9997.jpg                        primary clear water\n",
       "61189  file_9998.jpg                                     cloudy\n",
       "61190  file_9999.jpg  primary agriculture clear habitation road\n",
       "\n",
       "[61191 rows x 2 columns]"
      ]
     },
     "execution_count": 26,
     "metadata": {},
     "output_type": "execute_result"
    }
   ],
   "source": [
    "final_df = pd.concat([test_result_df, additional_result_df])\n",
    "final_df = final_df.reset_index().drop('index', axis =1)\n",
    "final_df"
   ]
  },
  {
   "cell_type": "code",
   "execution_count": 27,
   "id": "2ee44e5a",
   "metadata": {
    "execution": {
     "iopub.execute_input": "2023-01-15T15:13:34.559505Z",
     "iopub.status.busy": "2023-01-15T15:13:34.559065Z",
     "iopub.status.idle": "2023-01-15T15:13:34.599980Z",
     "shell.execute_reply": "2023-01-15T15:13:34.598682Z"
    },
    "papermill": {
     "duration": 0.317868,
     "end_time": "2023-01-15T15:13:34.602702",
     "exception": false,
     "start_time": "2023-01-15T15:13:34.284834",
     "status": "completed"
    },
    "tags": []
   },
   "outputs": [
    {
     "data": {
      "text/html": [
       "<div>\n",
       "<style scoped>\n",
       "    .dataframe tbody tr th:only-of-type {\n",
       "        vertical-align: middle;\n",
       "    }\n",
       "\n",
       "    .dataframe tbody tr th {\n",
       "        vertical-align: top;\n",
       "    }\n",
       "\n",
       "    .dataframe thead th {\n",
       "        text-align: right;\n",
       "    }\n",
       "</style>\n",
       "<table border=\"1\" class=\"dataframe\">\n",
       "  <thead>\n",
       "    <tr style=\"text-align: right;\">\n",
       "      <th></th>\n",
       "      <th>image_name</th>\n",
       "      <th>tags</th>\n",
       "    </tr>\n",
       "  </thead>\n",
       "  <tbody>\n",
       "    <tr>\n",
       "      <th>0</th>\n",
       "      <td>test_0</td>\n",
       "      <td>primary clear</td>\n",
       "    </tr>\n",
       "    <tr>\n",
       "      <th>1</th>\n",
       "      <td>test_1</td>\n",
       "      <td>primary clear</td>\n",
       "    </tr>\n",
       "    <tr>\n",
       "      <th>2</th>\n",
       "      <td>test_2</td>\n",
       "      <td>primary partly_cloudy</td>\n",
       "    </tr>\n",
       "    <tr>\n",
       "      <th>3</th>\n",
       "      <td>test_3</td>\n",
       "      <td>primary clear</td>\n",
       "    </tr>\n",
       "    <tr>\n",
       "      <th>4</th>\n",
       "      <td>test_4</td>\n",
       "      <td>primary partly_cloudy</td>\n",
       "    </tr>\n",
       "    <tr>\n",
       "      <th>...</th>\n",
       "      <td>...</td>\n",
       "      <td>...</td>\n",
       "    </tr>\n",
       "    <tr>\n",
       "      <th>61186</th>\n",
       "      <td>file_9995</td>\n",
       "      <td>primary cloudy partly_cloudy</td>\n",
       "    </tr>\n",
       "    <tr>\n",
       "      <th>61187</th>\n",
       "      <td>file_9996</td>\n",
       "      <td>primary clear water</td>\n",
       "    </tr>\n",
       "    <tr>\n",
       "      <th>61188</th>\n",
       "      <td>file_9997</td>\n",
       "      <td>primary clear water</td>\n",
       "    </tr>\n",
       "    <tr>\n",
       "      <th>61189</th>\n",
       "      <td>file_9998</td>\n",
       "      <td>cloudy</td>\n",
       "    </tr>\n",
       "    <tr>\n",
       "      <th>61190</th>\n",
       "      <td>file_9999</td>\n",
       "      <td>primary agriculture clear habitation road</td>\n",
       "    </tr>\n",
       "  </tbody>\n",
       "</table>\n",
       "<p>61191 rows × 2 columns</p>\n",
       "</div>"
      ],
      "text/plain": [
       "      image_name                                       tags\n",
       "0         test_0                              primary clear\n",
       "1         test_1                              primary clear\n",
       "2         test_2                      primary partly_cloudy\n",
       "3         test_3                              primary clear\n",
       "4         test_4                      primary partly_cloudy\n",
       "...          ...                                        ...\n",
       "61186  file_9995               primary cloudy partly_cloudy\n",
       "61187  file_9996                        primary clear water\n",
       "61188  file_9997                        primary clear water\n",
       "61189  file_9998                                     cloudy\n",
       "61190  file_9999  primary agriculture clear habitation road\n",
       "\n",
       "[61191 rows x 2 columns]"
      ]
     },
     "execution_count": 27,
     "metadata": {},
     "output_type": "execute_result"
    }
   ],
   "source": [
    "final_df['image_name'] = final_df['image_name'].apply(lambda x: x.replace('.jpg',''))\n",
    "final_df"
   ]
  },
  {
   "cell_type": "code",
   "execution_count": 28,
   "id": "3630c0a6",
   "metadata": {
    "execution": {
     "iopub.execute_input": "2023-01-15T15:13:35.218880Z",
     "iopub.status.busy": "2023-01-15T15:13:35.218408Z",
     "iopub.status.idle": "2023-01-15T15:13:35.327927Z",
     "shell.execute_reply": "2023-01-15T15:13:35.326664Z"
    },
    "papermill": {
     "duration": 0.455282,
     "end_time": "2023-01-15T15:13:35.331055",
     "exception": false,
     "start_time": "2023-01-15T15:13:34.875773",
     "status": "completed"
    },
    "tags": []
   },
   "outputs": [],
   "source": [
    "# saving the final dataframe to csv for submission\n",
    "final_df.to_csv('submission.csv', index=False)"
   ]
  }
 ],
 "metadata": {
  "kernelspec": {
   "display_name": "Python 3",
   "language": "python",
   "name": "python3"
  },
  "language_info": {
   "codemirror_mode": {
    "name": "ipython",
    "version": 3
   },
   "file_extension": ".py",
   "mimetype": "text/x-python",
   "name": "python",
   "nbconvert_exporter": "python",
   "pygments_lexer": "ipython3",
   "version": "3.7.12"
  },
  "papermill": {
   "default_parameters": {},
   "duration": 3001.791256,
   "end_time": "2023-01-15T15:13:39.174619",
   "environment_variables": {},
   "exception": null,
   "input_path": "__notebook__.ipynb",
   "output_path": "__notebook__.ipynb",
   "parameters": {},
   "start_time": "2023-01-15T14:23:37.383363",
   "version": "2.3.4"
  }
 },
 "nbformat": 4,
 "nbformat_minor": 5
}
